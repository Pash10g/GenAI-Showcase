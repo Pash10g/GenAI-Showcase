{
 "cells": [
  {
   "cell_type": "markdown",
   "id": "826797b9-adf9-4bfb-b238-84a584fa9da1",
   "metadata": {},
   "source": [
    "# Building a technical documentation agent with MongoDB, Gemini, and LangGraph"
   ]
  },
  {
   "cell_type": "markdown",
   "id": "3dd87638-a6e9-4be6-bc2c-6bd4f085fe69",
   "metadata": {},
   "source": [
    "[![Open In Colab](https://colab.research.google.com/assets/colab-badge.svg)](https://colab.research.google.com/github/mongodb-developer/GenAI-Showcase/blob/main/notebooks/agents/docs_agent_mongodb_langgraph.ipynb)\n",
    "\n",
    "#### **NOTE**: The 📚 emoji indicates reference documentation."
   ]
  },
  {
   "cell_type": "markdown",
   "id": "743c74f9-9f00-455c-8c12-8b2ddc79ec74",
   "metadata": {},
   "source": [
    "# Step 1: Install required libraries\n",
    "\n",
    "* **pymongo**: Python driver for MongoDB\n",
    "* **langchain**: Python library for LangChain, an LLM app orchestration framework\n",
    "* **langchain-google-genai**: Python library to use Google's GenAI models in LangChain\n",
    "* **langgraph**: Python library for LangChain's agent orchestration framework, LangGraph\n",
    "* **langgraph-checkpoint-mongodb**: Python library to add MongoDB as a checkpointer in LangGraph\n",
    "* **sentence_transformers**: Python library to use open-source ML models from Hugging Face"
   ]
  },
  {
   "cell_type": "code",
   "execution_count": 2,
   "id": "ab2a42bb-0dc9-41b2-b6a2-5fde7dbda7c0",
   "metadata": {},
   "outputs": [],
   "source": [
    "! pip install -qU pymongo langchain langchain-google-genai langgraph langgraph-checkpoint-mongodb sentence_transformers"
   ]
  },
  {
   "cell_type": "markdown",
   "id": "dedd6ce0-f7dd-46e4-a1ed-d106f89a773c",
   "metadata": {},
   "source": [
    "# Step 2: Setup prerequisites\n",
    "\n",
    "* Register for a [free MongoDB Atlas account](https://www.mongodb.com/cloud/atlas/register)\n",
    "* [Create a new database cluster](https://www.mongodb.com/docs/guides/atlas/cluster/)\n",
    "* [Obtain the connection string](https://www.mongodb.com/docs/guides/atlas/connection-string/) for your database cluster"
   ]
  },
  {
   "cell_type": "code",
   "execution_count": 3,
   "id": "d1a8d577-a32e-4029-b6b0-eab7edda1567",
   "metadata": {},
   "outputs": [],
   "source": [
    "import getpass\n",
    "\n",
    "from pymongo import MongoClient"
   ]
  },
  {
   "cell_type": "code",
   "execution_count": 4,
   "id": "1bb5f930-cd9f-4b44-bbe4-0fdc28fe12ca",
   "metadata": {},
   "outputs": [
    {
     "name": "stdin",
     "output_type": "stream",
     "text": [
      "Enter your MongoDB connection string: ········\n"
     ]
    },
    {
     "data": {
      "text/plain": [
       "{'ok': 1.0,\n",
       " '$clusterTime': {'clusterTime': Timestamp(1744928532, 43),\n",
       "  'signature': {'hash': b'\\x7fN\\x9d\\xa9\\x98\\xbf\\xcb\\xf9\\x9cy\\xf0\\xdd\\xd3\\x83\\xa9v\\x9e\\xb8\\x17)',\n",
       "   'keyId': 7456513059255746561}},\n",
       " 'operationTime': Timestamp(1744928532, 43)}"
      ]
     },
     "execution_count": 4,
     "metadata": {},
     "output_type": "execute_result"
    }
   ],
   "source": [
    "# Paste your MongoDB connection string. Be sure to replace the password placeholder with your actual password.\n",
    "MONGODB_URI = getpass.getpass(\"Enter your MongoDB connection string:\")\n",
    "# Initialize a MongoDB Python client\n",
    "mongodb_client = MongoClient(MONGODB_URI, appname=\"devrel.workshop.agents\")\n",
    "# Check the connection to the server\n",
    "mongodb_client.admin.command(\"ping\")"
   ]
  },
  {
   "cell_type": "markdown",
   "id": "41f53e8d-b9ef-4c5f-85f4-541b53baaf5d",
   "metadata": {},
   "source": [
    "### **Do not change the values assigned to the variables below**"
   ]
  },
  {
   "cell_type": "code",
   "execution_count": 5,
   "id": "670b799b-aa7d-4713-a376-7e3dffc5a2b2",
   "metadata": {},
   "outputs": [],
   "source": [
    "#  Database name\n",
    "DB_NAME = \"mongodb_genai_devday\"\n",
    "# Name of the collection with full documents- used for summarization\n",
    "FULL_COLLECTION_NAME = \"mongodb-docs\"\n",
    "# Name of the collection for vector search- used for Q&A\n",
    "VS_COLLECTION_NAME = \"mongodb-docs-embedded\"\n",
    "# Name of the vector search index\n",
    "VS_INDEX_NAME = \"vector_index\""
   ]
  },
  {
   "cell_type": "markdown",
   "id": "496975d8-a990-48fd-b68e-e6c060cdd5a1",
   "metadata": {},
   "source": [
    "📚 https://pymongo.readthedocs.io/en/stable/tutorial.html#getting-a-database"
   ]
  },
  {
   "cell_type": "code",
   "execution_count": 6,
   "id": "9b3f8ca5-60ad-45d6-8ac4-6295c1ea93c8",
   "metadata": {},
   "outputs": [],
   "source": [
    "# Connect to the `DB_NAME` database.\n",
    "db = mongodb_client[DB_NAME]"
   ]
  },
  {
   "cell_type": "markdown",
   "id": "6144c44d-bc46-4729-9a9b-ee18b654cfab",
   "metadata": {},
   "source": [
    "📚 https://pymongo.readthedocs.io/en/stable/tutorial.html#getting-a-collection"
   ]
  },
  {
   "cell_type": "code",
   "execution_count": 7,
   "id": "245cde32-fae8-4c65-a594-57953f1a916a",
   "metadata": {},
   "outputs": [],
   "source": [
    "# Connect to the `VS_COLLECTION_NAME` collection.\n",
    "vs_collection = db[VS_COLLECTION_NAME]"
   ]
  },
  {
   "cell_type": "code",
   "execution_count": 8,
   "id": "1a31f7c7-b90c-47e1-9a90-cd5676802c65",
   "metadata": {},
   "outputs": [],
   "source": [
    "# Connect to the `FULL_COLLECTION_NAME` collection.\n",
    "full_collection = db[FULL_COLLECTION_NAME]"
   ]
  },
  {
   "cell_type": "code",
   "execution_count": 9,
   "id": "60f4bee7-8308-4201-a15b-f7e1f0624b1f",
   "metadata": {},
   "outputs": [],
   "source": [
    "# Endpoint for data import and to get the LangChain LLM object\n",
    "SERVERLESS_URL = \"https://vtqjvgchmwcjwsrela2oyhlegu0hwqnw.lambda-url.us-west-2.on.aws/\"\n",
    "# Set the LLM provider to `google` to use Gemini 1.5 Pro as the brain of the agent\n",
    "LLM_PROVIDER = \"google\""
   ]
  },
  {
   "cell_type": "markdown",
   "id": "9aaf0a5f-8c96-4cdb-b4a4-c7dba7820ea0",
   "metadata": {},
   "source": [
    "# Step 3: Import data into MongoDB"
   ]
  },
  {
   "cell_type": "code",
   "execution_count": 10,
   "id": "20ec15eb-b5bd-4ee9-84dc-610e31c6f8d8",
   "metadata": {},
   "outputs": [],
   "source": [
    "import requests"
   ]
  },
  {
   "cell_type": "code",
   "execution_count": 11,
   "id": "7fe63e16-05f7-4c41-9119-3d4330b96166",
   "metadata": {},
   "outputs": [
    {
     "name": "stdout",
     "output_type": "stream",
     "text": [
      "107 documents ingested into the mongodb-docs-embedded collection.\n",
      "20 documents ingested into the mongodb-docs collection.\n"
     ]
    }
   ],
   "source": [
    "# Make a request to the serverless function to import data into MongoDB\n",
    "response = requests.post(\n",
    "    url=SERVERLESS_URL, json={\"task\": \"import_agents_data\", \"data\": MONGODB_URI}\n",
    ")\n",
    "if response.status_code == 200:\n",
    "    print(\n",
    "        f\"{vs_collection.count_documents({})} documents ingested into the {VS_COLLECTION_NAME} collection.\"\n",
    "    )\n",
    "    print(\n",
    "        f\"{full_collection.count_documents({})} documents ingested into the {FULL_COLLECTION_NAME} collection.\"\n",
    "    )\n",
    "else:\n",
    "    raise Exception(response.json())"
   ]
  },
  {
   "cell_type": "markdown",
   "id": "71b46eb3-4c1c-4d72-a411-33706d8473f4",
   "metadata": {},
   "source": [
    "# Step 4: Create a vector search index"
   ]
  },
  {
   "cell_type": "code",
   "execution_count": 12,
   "id": "6b4d91f6-32b6-41e0-aad0-f42c042dfb76",
   "metadata": {},
   "outputs": [],
   "source": [
    "# Create vector index definition specifying:\n",
    "# path: Path to the embeddings field\n",
    "# numDimensions: Number of embedding dimensions- depends on the embedding model used\n",
    "# similarity: Similarity metric. One of cosine, euclidean, dotProduct.\n",
    "model = {\n",
    "    \"name\": VS_INDEX_NAME,\n",
    "    \"type\": \"vectorSearch\",\n",
    "    \"definition\": {\n",
    "        \"fields\": [\n",
    "            {\n",
    "                \"type\": \"vector\",\n",
    "                \"path\": \"embedding\",\n",
    "                \"numDimensions\": 384,\n",
    "                \"similarity\": \"cosine\",\n",
    "            }\n",
    "        ]\n",
    "    },\n",
    "}"
   ]
  },
  {
   "cell_type": "markdown",
   "id": "006582b7-5ee6-40e4-bf45-c7cb6dbee189",
   "metadata": {},
   "source": [
    "📚 https://pymongo.readthedocs.io/en/stable/api/pymongo/collection.html#pymongo.collection.Collection.create_search_index"
   ]
  },
  {
   "cell_type": "code",
   "execution_count": 13,
   "id": "8b133d2e-d7f1-4448-94b2-795204a26396",
   "metadata": {},
   "outputs": [
    {
     "data": {
      "text/plain": [
       "'vector_index'"
      ]
     },
     "execution_count": 13,
     "metadata": {},
     "output_type": "execute_result"
    }
   ],
   "source": [
    "# Create a vector search index with the above `model` for the `vs_collection` collection\n",
    "vs_collection.create_search_index(model=model)"
   ]
  },
  {
   "cell_type": "markdown",
   "id": "d1dd5405-f716-4c6a-bc66-2217e9a7cd64",
   "metadata": {},
   "source": [
    "# Step 5: Create agent tools"
   ]
  },
  {
   "cell_type": "code",
   "execution_count": 14,
   "id": "05156955-dab9-4f29-bbd8-992a7613a889",
   "metadata": {},
   "outputs": [],
   "source": [
    "# You may see a warning upon running this cell. You can ignore it.\n",
    "from typing import List\n",
    "\n",
    "from langchain.agents import tool\n",
    "from sentence_transformers import SentenceTransformer"
   ]
  },
  {
   "cell_type": "markdown",
   "id": "1f760cca-6bb5-4b31-bfbc-41fcb5b0b4d2",
   "metadata": {},
   "source": [
    "### Vector Search"
   ]
  },
  {
   "cell_type": "code",
   "execution_count": 15,
   "id": "cc0ee4e9-2fa4-4799-85fe-d0af7b3ffe54",
   "metadata": {},
   "outputs": [],
   "source": [
    "# Load the `gte-small` model using the Sentence Transformers library\n",
    "embedding_model = SentenceTransformer(\"thenlper/gte-small\")"
   ]
  },
  {
   "cell_type": "markdown",
   "id": "109a5539-5c67-4adc-b779-cadc45894665",
   "metadata": {},
   "source": [
    "📚 https://huggingface.co/thenlper/gte-small#usage (See \"Use with sentence-transformers\" under Usage)"
   ]
  },
  {
   "cell_type": "code",
   "execution_count": 16,
   "id": "c3721455-4038-4ded-bade-9dbef7dc8666",
   "metadata": {},
   "outputs": [],
   "source": [
    "# Define a function that takes a piece of text (`text`) as input, embeds it using the `embedding_model` instantiated above and returns the embedding as a list\n",
    "# An array can be converted to a list using the `tolist()` method\n",
    "def get_embedding(text: str) -> List[float]:\n",
    "    \"\"\"\n",
    "    Generate the embedding for a piece of text.\n",
    "\n",
    "    Args:\n",
    "        text (str): Text to embed.\n",
    "\n",
    "    Returns:\n",
    "        List[float]: Embedding of the text as a list.\n",
    "    \"\"\"\n",
    "    embedding = embedding_model.encode(text)\n",
    "    return embedding.tolist()"
   ]
  },
  {
   "cell_type": "markdown",
   "id": "ee91b673-143c-4a39-bdbe-fb31b00d8774",
   "metadata": {},
   "source": [
    "📚 https://www.mongodb.com/docs/atlas/atlas-vector-search/vector-search-stage/#ann-examples (Refer to the \"Basic Example\")"
   ]
  },
  {
   "cell_type": "code",
   "execution_count": 17,
   "id": "22ff38a5-ea38-4df0-b575-e111003130d9",
   "metadata": {},
   "outputs": [],
   "source": [
    "# Define a tool to retrieve relevant documents for a user query using vector search\n",
    "@tool\n",
    "def get_information_for_question_answering(user_query: str) -> str:\n",
    "    \"\"\"\n",
    "    Retrieve information using vector search to answer a user query.\n",
    "\n",
    "    Args:\n",
    "    user_query (str): The user's query string.\n",
    "\n",
    "    Returns:\n",
    "    str: The retrieved information formatted as a string.\n",
    "    \"\"\"\n",
    "\n",
    "    # Generate embedding for the `user_query` using the `get_embedding` function defined above\n",
    "    query_embedding = get_embedding(user_query)\n",
    "\n",
    "    # Define an aggregation pipeline consisting of a $vectorSearch stage, followed by a $project stage\n",
    "    # Set the number of candidates to 150 and only return the top 5 documents from the vector search\n",
    "    # In the $project stage, exclude the `_id` field and include only the `body` field and `vectorSearchScore`\n",
    "    pipeline = [\n",
    "        {\n",
    "            \"$vectorSearch\": {\n",
    "                \"index\": VS_INDEX_NAME,\n",
    "                \"path\": \"embedding\",\n",
    "                \"queryVector\": query_embedding,\n",
    "                \"numCandidates\": 150,\n",
    "                \"limit\": 5,\n",
    "            }\n",
    "        },\n",
    "        {\n",
    "            \"$project\": {\n",
    "                \"_id\": 0,\n",
    "                \"body\": 1,\n",
    "                \"score\": {\"$meta\": \"vectorSearchScore\"},\n",
    "            }\n",
    "        },\n",
    "    ]\n",
    "\n",
    "    # Execute the aggregation `pipeline` against the `vs_collection` collection and store the results in `results`\n",
    "    results = vs_collection.aggregate(pipeline)\n",
    "    # Concatenate the results into a string\n",
    "    context = \"\\n\\n\".join([doc.get(\"body\") for doc in results])\n",
    "    return context"
   ]
  },
  {
   "cell_type": "markdown",
   "id": "8dc78085-c4e5-407e-87fd-1a9225dc2ffe",
   "metadata": {},
   "source": [
    "### Get page content\n",
    "\n",
    "📚 https://www.mongodb.com/docs/manual/reference/method/db.collection.findOne/#return-all-but-the-excluded-fields"
   ]
  },
  {
   "cell_type": "code",
   "execution_count": 18,
   "id": "62a6e91b-41dc-4672-90ea-eaf0f4d3e2e1",
   "metadata": {},
   "outputs": [],
   "source": [
    "# Define a tool to retrieve the content of a documentation page for summarization\n",
    "@tool\n",
    "def get_page_content_for_summarization(user_query: str) -> str:\n",
    "    \"\"\"\n",
    "    Retrieve page content based on provided title.\n",
    "\n",
    "    Args:\n",
    "    user_query (str): The user's query string i.e. title of the documentation page.\n",
    "\n",
    "    Returns:\n",
    "    str: The content of the page.\n",
    "    \"\"\"\n",
    "    # Query the documents where the `title` field is equal to the `user_query`\n",
    "    query = {\"title\": user_query}\n",
    "    # Only return the `body` field from the retrieved documents.\n",
    "    # Set fields to include to 1, those to exclude to 0. `_id` is included by default, so exclude that.\n",
    "    projection = {\"_id\": 0, \"body\": 1}\n",
    "    # Use the `query` and `projection` with the `find_one` method\n",
    "    # to get the `body` of the document with `title` equal to the `user_query` from the `full_collection` collection\n",
    "    document = full_collection.find_one(query, projection)\n",
    "    if document:\n",
    "        return document[\"body\"]\n",
    "    else:\n",
    "        return \"Document not found\""
   ]
  },
  {
   "cell_type": "code",
   "execution_count": 19,
   "id": "ad65f622-2922-4d62-a9df-75589d257b21",
   "metadata": {},
   "outputs": [],
   "source": [
    "# Create the list of tools\n",
    "tools = [\n",
    "    get_information_for_question_answering,\n",
    "    get_page_content_for_summarization,\n",
    "]"
   ]
  },
  {
   "cell_type": "markdown",
   "id": "e430c136-af99-4ad0-b937-fef2592bd3a0",
   "metadata": {},
   "source": [
    "### Test out the tools"
   ]
  },
  {
   "cell_type": "code",
   "execution_count": 20,
   "id": "e8171893-efb9-45da-9c67-cd94ab32f2ad",
   "metadata": {},
   "outputs": [
    {
     "data": {
      "text/plain": [
       "\"# Backup and Restore Sharded Clusters\\n\\nThe following tutorials describe backup and restoration for sharded clusters:\\n\\nTo use `mongodump` and `mongorestore` as a backup strategy for sharded clusters, you must stop the sharded cluster balancer and use the `fsync` command or the `db.fsyncLock()` method on `mongos` to block writes on the cluster during backups.\\n\\nSharded clusters can also use one of the following coordinated backup and restore processes, which maintain the atomicity guarantees of transactions across shards:\\n\\n- MongoDB Atlas\\n\\n- MongoDB Cloud Manager\\n\\n- MongoDB Ops Manager\\n\\nUse file system snapshots back up each component in the sharded cluster individually. The procedure involves stopping the cluster balancer. If your system configuration allows file system backups, this might be more efficient than using MongoDB tools.\\n\\nCreate backups using `mongodump` to back up each component in the cluster individually.\\n\\nCreate backups using `mongodump` to back up each component in the cluster individually.\\n\\nLimit the operation of the cluster balancer to provide a window for regular backup operations.\\n\\nAn outline of the procedure and consideration for restoring an *entire* sharded cluster from backup.\\n\\n# Configuration and Maintenance\\n\\nThis section describes routine management operations, including updating your MongoDB deployment's configuration.\\n\\nOutlines common MongoDB configurations and examples of best-practice configurations for common use cases.\\n\\nUpgrade a MongoDB deployment to a different patch release within the same major release series.\\n\\nStart, configure, and manage running `mongod` process.\\n\\nStop in progress MongoDB client operations using `db.killOp()` and `maxTimeMS()`.\\n\\nArchive the current log files and start new ones.\\n\\n## Full Time Diagnostic Data Capture\\n\\nTo help MongoDB engineers analyze server behavior, `mongod` and `mongos` processes include a Full Time Diagnostic Data Capture (FTDC) mechanism. FTDC is enabled by default. Due to its importance in debugging deployments, FTDC thread failures are fatal and stop the parent `mongod` or `mongos` process.\\n\\nFTDC data files are compressed and not human-readable. They inherit the same file access permissions as the MongoDB data files. Only users with access to FTDC data files can transmit the FTDC data.\\n\\nMongoDB engineers cannot access FTDC data without explicit permission and assistance from system owners or operators.\\n\\nFTDC data **never** contains any of the following information:\\n\\n- Samples of queries, query predicates, or query results\\n\\n- Data sampled from any end-user collection or index\\n\\n- System or MongoDB user credentials or security certificates\\n\\n# Create a MongoDB Deployment\\n\\nYou can create a free tier MongoDB deployment on MongoDB Atlas to store and manage your data. MongoDB Atlas hosts and manages your MongoDB database in the cloud.\\n\\n## Create a Free MongoDB deployment on Atlas\\n\\nComplete the Get Started with Atlas guide to set up a new Atlas account and load sample data into a new free tier MongoDB deployment.\\n\\n## Save your Credentials\\n\\nAfter you create your database user, save that user's username and password to a safe location for use in an upcoming step.\\n\\nAfter you complete these steps, you have a new free tier MongoDB deployment on Atlas, database user credentials, and sample data loaded in your database.\\n\\nIf you run into issues on this step, ask for help in the MongoDB Community Forums or submit feedback by using the Rate this page tab on the right or bottom right side of this page.\""
      ]
     },
     "execution_count": 20,
     "metadata": {},
     "output_type": "execute_result"
    }
   ],
   "source": [
    "# Test out the `get_information_for_question_answering` tool with the query \"What are some best practices for data backups in MongoDB?\"\n",
    "# You should see a non-empty response\n",
    "get_information_for_question_answering.invoke(\n",
    "    \"What are some best practices for data backups in MongoDB?\"\n",
    ")"
   ]
  },
  {
   "cell_type": "code",
   "execution_count": 21,
   "id": "7a5c5b92-2ecf-4285-b9ce-e030dc78f935",
   "metadata": {},
   "outputs": [
    {
     "data": {
      "text/plain": [
       "\"# Create a MongoDB Deployment\\n\\nYou can create a free tier MongoDB deployment on MongoDB Atlas to store and manage your data. MongoDB Atlas hosts and manages your MongoDB database in the cloud.\\n\\n## Create a Free MongoDB deployment on Atlas\\n\\nComplete the Get Started with Atlas guide to set up a new Atlas account and load sample data into a new free tier MongoDB deployment.\\n\\n## Save your Credentials\\n\\nAfter you create your database user, save that user's username and password to a safe location for use in an upcoming step.\\n\\nAfter you complete these steps, you have a new free tier MongoDB deployment on Atlas, database user credentials, and sample data loaded in your database.\\n\\nIf you run into issues on this step, ask for help in the MongoDB Community Forums or submit feedback by using the Rate this page tab on the right or bottom right side of this page.\\n\\n\""
      ]
     },
     "execution_count": 21,
     "metadata": {},
     "output_type": "execute_result"
    }
   ],
   "source": [
    "# Test out the `get_page_content_for_summarization` tool with page title \"Create a MongoDB Deployment\"\n",
    "# You should see a non-empty response\n",
    "get_page_content_for_summarization.invoke(\"Create a MongoDB Deployment\")"
   ]
  },
  {
   "cell_type": "markdown",
   "id": "ca33138c-3284-4ead-9133-5dc1092eae62",
   "metadata": {},
   "source": [
    "# Step 6: Define graph state"
   ]
  },
  {
   "cell_type": "code",
   "execution_count": 22,
   "id": "0fefac91-718d-40bf-b7e0-5c0ccba3a3cf",
   "metadata": {},
   "outputs": [],
   "source": [
    "from typing import Annotated\n",
    "\n",
    "from langgraph.graph.message import add_messages\n",
    "from typing_extensions import TypedDict"
   ]
  },
  {
   "cell_type": "code",
   "execution_count": 23,
   "id": "98a764ac-4c8a-4861-bf3b-09e3074c7d85",
   "metadata": {},
   "outputs": [],
   "source": [
    "# Define the graph state\n",
    "# We are only tracking chat messages but you can track other attributes as well\n",
    "class GraphState(TypedDict):\n",
    "    messages: Annotated[list, add_messages]"
   ]
  },
  {
   "cell_type": "markdown",
   "id": "d88a0e79-4203-4d8a-999e-b9b86563955d",
   "metadata": {},
   "source": [
    "# Step 7: Instantiate the LLM"
   ]
  },
  {
   "cell_type": "code",
   "execution_count": 24,
   "id": "e4f7345d-1edf-405b-9327-f3f6a7f3f405",
   "metadata": {},
   "outputs": [],
   "source": [
    "from langchain_core.load import load\n",
    "from langchain_core.prompts import ChatPromptTemplate, MessagesPlaceholder"
   ]
  },
  {
   "cell_type": "code",
   "execution_count": 25,
   "id": "e99c9ccc-c2f9-41f6-95ed-3a3d8486948d",
   "metadata": {},
   "outputs": [
    {
     "name": "stderr",
     "output_type": "stream",
     "text": [
      "/tmp/ipykernel_20033/2346806571.py:5: LangChainBetaWarning: The function `load` is in beta. It is actively being worked on, so the API may change.\n",
      "  llm = load(llm_dict[\"llm\"], secrets_map=llm_dict[\"secrets_map\"])\n"
     ]
    }
   ],
   "source": [
    "# Obtain the Langchain LLM object from our serverless endpoint\n",
    "llm_dict = requests.post(\n",
    "    url=SERVERLESS_URL, json={\"task\": \"get_llm\", \"data\": LLM_PROVIDER}\n",
    ").json()\n",
    "llm = load(llm_dict[\"llm\"], secrets_map=llm_dict[\"secrets_map\"])"
   ]
  },
  {
   "cell_type": "code",
   "execution_count": 26,
   "id": "dff98675-cf17-4305-8140-03c174e586eb",
   "metadata": {},
   "outputs": [],
   "source": [
    "# Create a Chain-of-Thought (CoT) prompt template for the agent.\n",
    "# This includes a system prompt with a placeholder for tool names, and a placeholder for messages i.e. user queries and assistant responses\n",
    "prompt = ChatPromptTemplate.from_messages(\n",
    "    [\n",
    "        (\n",
    "            \"You are a helpful AI assistant.\"\n",
    "            \" You are provided with tools to answer questions and summarize technical documentation related to MongoDB.\"\n",
    "            \" Think step-by-step and use these tools to get the information required to answer the user query.\"\n",
    "            \" Do not re-run tools unless absolutely necessary.\"\n",
    "            \" If you are not able to get enough information using the tools, reply with I DON'T KNOW.\"\n",
    "            \" You have access to the following tools: {tool_names}.\"\n",
    "        ),\n",
    "        MessagesPlaceholder(variable_name=\"messages\"),\n",
    "    ]\n",
    ")"
   ]
  },
  {
   "cell_type": "code",
   "execution_count": 27,
   "id": "dac3b2d2-07bc-407b-8dd9-a9256762f888",
   "metadata": {},
   "outputs": [],
   "source": [
    "# Fill in the prompt template with the tool names\n",
    "prompt = prompt.partial(tool_names=\", \".join([tool.name for tool in tools]))"
   ]
  },
  {
   "cell_type": "markdown",
   "id": "9de82c53-ac5f-4228-b21e-7140f52b34d4",
   "metadata": {},
   "source": [
    "📚 https://python.langchain.com/v0.1/docs/modules/model_io/chat/function_calling/#binding-tool-schemas"
   ]
  },
  {
   "cell_type": "code",
   "execution_count": 28,
   "id": "e3d25306-32c6-4d69-84cc-91edc4f27db8",
   "metadata": {},
   "outputs": [],
   "source": [
    "# Bind the `tools` to the `llm` instantiated above\n",
    "bind_tools = llm.bind_tools(tools)"
   ]
  },
  {
   "cell_type": "markdown",
   "id": "9c585d1c-9f7e-4fd9-bcdc-69180d529ba5",
   "metadata": {},
   "source": [
    "📚 https://python.langchain.com/v0.1/docs/expression_language/primitives/sequence/#the-pipe-operator"
   ]
  },
  {
   "cell_type": "code",
   "execution_count": 29,
   "id": "53caa88a-3820-4e85-a795-be6e411605dc",
   "metadata": {},
   "outputs": [],
   "source": [
    "# Chain the `prompt` with the tool-bound llm using the `|` operator\n",
    "llm_with_tools = prompt | bind_tools"
   ]
  },
  {
   "cell_type": "code",
   "execution_count": 30,
   "id": "c53d747d-153d-4811-8d07-65db859666ac",
   "metadata": {},
   "outputs": [
    {
     "data": {
      "text/plain": [
       "[{'name': 'get_page_content_for_summarization',\n",
       "  'args': {'user_query': 'Create a MongoDB Deployment'},\n",
       "  'id': '0c0a9ca1-3071-4f04-8bc0-98b803b55baa',\n",
       "  'type': 'tool_call'}]"
      ]
     },
     "execution_count": 30,
     "metadata": {},
     "output_type": "execute_result"
    }
   ],
   "source": [
    "# Test that the LLM is making the right tool calls\n",
    "llm_with_tools.invoke(\n",
    "    [\"Give me a summary of the page titled Create a MongoDB Deployment.\"]\n",
    ").tool_calls"
   ]
  },
  {
   "cell_type": "code",
   "execution_count": 31,
   "id": "12b354b7-fd65-4edb-81bd-ba2b8b1b36ef",
   "metadata": {},
   "outputs": [
    {
     "data": {
      "text/plain": [
       "[{'name': 'get_information_for_question_answering',\n",
       "  'args': {'user_query': 'best practices for MongoDB backups'},\n",
       "  'id': '567a5212-d74b-49f1-a4d4-82bba5bae457',\n",
       "  'type': 'tool_call'}]"
      ]
     },
     "execution_count": 31,
     "metadata": {},
     "output_type": "execute_result"
    }
   ],
   "source": [
    "# Test that the LLM is making the right tool calls\n",
    "llm_with_tools.invoke(\n",
    "    [\"What are some best practices for data backups in MongoDB?\"]\n",
    ").tool_calls"
   ]
  },
  {
   "cell_type": "markdown",
   "id": "02d5b196-79a2-45c0-ae0e-f693135aad54",
   "metadata": {},
   "source": [
    "# Step 8: Define graph nodes"
   ]
  },
  {
   "cell_type": "code",
   "execution_count": 32,
   "id": "83900a97-b798-40c8-89cf-c8cc6043d048",
   "metadata": {},
   "outputs": [],
   "source": [
    "from pprint import pprint\n",
    "from typing import Dict\n",
    "\n",
    "from langchain_core.messages import ToolMessage"
   ]
  },
  {
   "cell_type": "code",
   "execution_count": 33,
   "id": "82f891d8-3c76-4edf-8e08-c868bbaeb8cf",
   "metadata": {},
   "outputs": [],
   "source": [
    "# Define the agent node\n",
    "def agent(state: GraphState) -> Dict[str, List]:\n",
    "    \"\"\"\n",
    "    Agent node\n",
    "\n",
    "    Args:\n",
    "        state (GraphState): Graph state\n",
    "\n",
    "    Returns:\n",
    "        Dict[str, List]: Updates to messages\n",
    "    \"\"\"\n",
    "    # Get the messages from the graph `state`\n",
    "    messages = state[\"messages\"]\n",
    "    # Invoke `llm_with_tools` with `messages` using the `invoke` method\n",
    "    result = llm_with_tools.invoke(messages)\n",
    "    # Write `result` to the `messages` attribute of the graph state\n",
    "    return {\"messages\": [result]}"
   ]
  },
  {
   "cell_type": "code",
   "execution_count": 34,
   "id": "5842bada-4a89-4b67-bd06-8cc868d253a9",
   "metadata": {},
   "outputs": [
    {
     "name": "stdout",
     "output_type": "stream",
     "text": [
      "{'get_information_for_question_answering': StructuredTool(name='get_information_for_question_answering', description=\"Retrieve information using vector search to answer a user query.\\n\\nArgs:\\nuser_query (str): The user's query string.\\n\\nReturns:\\nstr: The retrieved information formatted as a string.\", args_schema=<class 'langchain_core.utils.pydantic.get_information_for_question_answering'>, func=<function get_information_for_question_answering at 0x7fbad49cb1c0>),\n",
      " 'get_page_content_for_summarization': StructuredTool(name='get_page_content_for_summarization', description=\"Retrieve page content based on provided title.\\n\\nArgs:\\nuser_query (str): The user's query string i.e. title of the documentation page.\\n\\nReturns:\\nstr: The content of the page.\", args_schema=<class 'langchain_core.utils.pydantic.get_page_content_for_summarization'>, func=<function get_page_content_for_summarization at 0x7fbad482cdc0>)}\n"
     ]
    }
   ],
   "source": [
    "# Create a map of tool name to tool call\n",
    "tools_by_name = {tool.name: tool for tool in tools}\n",
    "pprint(tools_by_name)"
   ]
  },
  {
   "cell_type": "code",
   "execution_count": 35,
   "id": "1e1d24ed-483b-4088-a953-be13aec1f431",
   "metadata": {},
   "outputs": [],
   "source": [
    "# Define tool node\n",
    "def tool_node(state: GraphState) -> Dict[str, List]:\n",
    "    \"\"\"\n",
    "    Tool node\n",
    "\n",
    "    Args:\n",
    "        state (GraphState): Graph state\n",
    "\n",
    "    Returns:\n",
    "        Dict[str, List]: Updates to messages\n",
    "    \"\"\"\n",
    "    result = []\n",
    "    # Get the list of tool calls from messages\n",
    "    tool_calls = state[\"messages\"][-1].tool_calls\n",
    "    # Iterate through `tool_calls`\n",
    "    for tool_call in tool_calls:\n",
    "        # Get the tool from `tools_by_name` using the `name` attribute of the `tool_call`\n",
    "        tool = tools_by_name[tool_call[\"name\"]]\n",
    "        # Invoke the `tool` using the `args` attribute of the `tool_call`\n",
    "        observation = tool.invoke(tool_call[\"args\"])\n",
    "        # Append the result of executing the tool to the `result` list as a ToolMessage\n",
    "        # The `content` of the message is `observation` i.e. result of the tool call\n",
    "        # The `tool_call_id` is obtained from the `tool_call`\n",
    "        result.append(ToolMessage(content=observation, tool_call_id=tool_call[\"id\"]))\n",
    "    # Write `result` to the `messages` attribute of the graph state\n",
    "    return {\"messages\": result}"
   ]
  },
  {
   "cell_type": "markdown",
   "id": "fa1ed8c0-8aa3-4d48-a669-38bc52e1c5eb",
   "metadata": {},
   "source": [
    "# Step 9: Define conditional edges"
   ]
  },
  {
   "cell_type": "code",
   "execution_count": 36,
   "id": "53bbf869-320c-4abe-a178-9a2d7652f196",
   "metadata": {},
   "outputs": [],
   "source": [
    "from langgraph.graph import END"
   ]
  },
  {
   "cell_type": "code",
   "execution_count": 37,
   "id": "24c9d314-6ae1-4525-8e06-85fe2c4cc9b0",
   "metadata": {},
   "outputs": [],
   "source": [
    "# Define conditional routing function\n",
    "def route_tools(state: GraphState):\n",
    "    \"\"\"\n",
    "    Use in the conditional_edge to route to the tool node if the last message\n",
    "    has tool calls. Otherwise, route to the end.\n",
    "    \"\"\"\n",
    "    # Get messages from graph state\n",
    "    messages = state.get(\"messages\", [])\n",
    "    if len(messages) > 0:\n",
    "        # Get the last AI message from messages\n",
    "        ai_message = messages[-1]\n",
    "    else:\n",
    "        raise ValueError(f\"No messages found in input state to tool_edge: {state}\")\n",
    "    # Check if the last message has tool calls\n",
    "    if hasattr(ai_message, \"tool_calls\") and len(ai_message.tool_calls) > 0:\n",
    "        # If yes, return \"tools\"\n",
    "        return \"tools\"\n",
    "    # If no, return END\n",
    "    return END"
   ]
  },
  {
   "cell_type": "markdown",
   "id": "bba4d890-a353-4466-b823-0b6c7d760ae6",
   "metadata": {},
   "source": [
    "# Step 10: Build the graph"
   ]
  },
  {
   "cell_type": "code",
   "execution_count": 38,
   "id": "516e8672-ffae-42c1-bfc7-02bdea4676c2",
   "metadata": {},
   "outputs": [],
   "source": [
    "from IPython.display import Image, display\n",
    "from langgraph.graph import START, StateGraph"
   ]
  },
  {
   "cell_type": "code",
   "execution_count": 39,
   "id": "03729ab3-f5b7-4c37-b129-cba404f1a5ea",
   "metadata": {},
   "outputs": [],
   "source": [
    "# Instantiate the graph\n",
    "graph = StateGraph(GraphState)"
   ]
  },
  {
   "cell_type": "markdown",
   "id": "55ef57e8-68fc-455a-b414-8d71e492a79b",
   "metadata": {},
   "source": [
    "📚 https://blog.langchain.dev/langgraph/#nodes"
   ]
  },
  {
   "cell_type": "code",
   "execution_count": 40,
   "id": "1ae68849-1098-4d03-a196-b872d7b2be7a",
   "metadata": {},
   "outputs": [
    {
     "data": {
      "text/plain": [
       "<langgraph.graph.state.StateGraph at 0x7fbac469aa40>"
      ]
     },
     "execution_count": 40,
     "metadata": {},
     "output_type": "execute_result"
    }
   ],
   "source": [
    "# Add nodes to the `graph` using the `add_node` function\n",
    "# Add a `agent` node. The `agent` node should run the `agent` function\n",
    "graph.add_node(\"agent\", agent)\n",
    "# Add a `tools` node. The `tools` node should run the `tool_node` function\n",
    "graph.add_node(\"tools\", tool_node)"
   ]
  },
  {
   "cell_type": "markdown",
   "id": "71513ab0-9c30-47a5-a9aa-cc2f794de50b",
   "metadata": {},
   "source": [
    "📚 https://langchain-ai.github.io/langgraph/concepts/low_level/#normal-edges"
   ]
  },
  {
   "cell_type": "code",
   "execution_count": 41,
   "id": "94625c09-5920-4f31-91c7-f29ccdcdfd4d",
   "metadata": {},
   "outputs": [
    {
     "data": {
      "text/plain": [
       "<langgraph.graph.state.StateGraph at 0x7fbac469aa40>"
      ]
     },
     "execution_count": 41,
     "metadata": {},
     "output_type": "execute_result"
    }
   ],
   "source": [
    "# Add fixed edges to the `graph` using the `add_edge` method\n",
    "# Add an edge from the START node to the `agent` node\n",
    "graph.add_edge(START, \"agent\")\n",
    "# Add an edge from the `tools` node to the `agent` node\n",
    "graph.add_edge(\"tools\", \"agent\")"
   ]
  },
  {
   "cell_type": "markdown",
   "id": "3479855e-600a-46bd-ab59-f9b664529086",
   "metadata": {},
   "source": [
    "📚 https://langchain-ai.github.io/langgraph/concepts/low_level/#conditional-edges"
   ]
  },
  {
   "cell_type": "code",
   "execution_count": 43,
   "id": "4cf68e65-4afc-49ce-96a1-6097659fe7b4",
   "metadata": {},
   "outputs": [
    {
     "data": {
      "text/plain": [
       "<langgraph.graph.state.StateGraph at 0x7fbac469aa40>"
      ]
     },
     "execution_count": 43,
     "metadata": {},
     "output_type": "execute_result"
    }
   ],
   "source": [
    "# Use the `add_conditional_edges` method to add a conditional edge from the `agent` node to the `tools` node\n",
    "# based on the output of the `route_tools` function\n",
    "graph.add_conditional_edges(\n",
    "    \"agent\",\n",
    "    route_tools,\n",
    "    {\"tools\": \"tools\", END: END},\n",
    ")"
   ]
  },
  {
   "cell_type": "code",
   "execution_count": 44,
   "id": "802d3eee-9680-45e5-801e-3891ccf32dbe",
   "metadata": {},
   "outputs": [],
   "source": [
    "# Compile the `graph`\n",
    "app = graph.compile()"
   ]
  },
  {
   "cell_type": "code",
   "execution_count": 45,
   "id": "55e2dd75-5b77-44d4-b9ae-36712ba19748",
   "metadata": {},
   "outputs": [
    {
     "data": {
      "image/png": "[encoded data removed]",
      "text/plain": [
       "<IPython.core.display.Image object>"
      ]
     },
     "metadata": {},
     "output_type": "display_data"
    }
   ],
   "source": [
    "# Visualize the graph\n",
    "try:\n",
    "    display(Image(app.get_graph().draw_mermaid_png()))\n",
    "except Exception:\n",
    "    # This requires some extra dependencies and is optional\n",
    "    pass"
   ]
  },
  {
   "cell_type": "markdown",
   "id": "b169b807-dffa-4c89-a935-ab7a7176dbec",
   "metadata": {},
   "source": [
    "# Step 11: Execute the graph"
   ]
  },
  {
   "cell_type": "code",
   "execution_count": 46,
   "id": "5a4e0e0f-6f38-4d06-9715-110d3ea1ff65",
   "metadata": {},
   "outputs": [],
   "source": [
    "# Stream outputs from the graph as they pass through its nodes\n",
    "def execute_graph(user_input: str) -> None:\n",
    "    \"\"\"\n",
    "    Stream outputs from the graph\n",
    "\n",
    "    Args:\n",
    "        user_input (str): User query string\n",
    "    \"\"\"\n",
    "    # Add user input to the messages attribute of the graph state\n",
    "    # The role of the message should be \"user\" and content should be `user_input`\n",
    "    input = {\"messages\": [(\"user\", user_input)]}\n",
    "    # Pass input to the graph and stream the outputs\n",
    "    for output in app.stream(input):\n",
    "        for key, value in output.items():\n",
    "            print(f\"Node {key}:\")\n",
    "            print(value)\n",
    "    print(\"---FINAL ANSWER---\")\n",
    "    print(value[\"messages\"][-1].content)"
   ]
  },
  {
   "cell_type": "code",
   "execution_count": 47,
   "id": "e3ecabc2-2306-4847-a44c-b75cad849ac4",
   "metadata": {},
   "outputs": [
    {
     "name": "stdout",
     "output_type": "stream",
     "text": [
      "Node agent:\n",
      "{'messages': [AIMessage(content='', additional_kwargs={'function_call': {'name': 'get_information_for_question_answering', 'arguments': '{\"user_query\": \"best practices for MongoDB backups\"}'}}, response_metadata={'prompt_feedback': {'block_reason': 0, 'safety_ratings': []}, 'finish_reason': 'STOP', 'model_name': 'gemini-1.5-pro-002', 'safety_ratings': []}, id='run-30576fb3-c333-4e2a-a877-9120243af7bf-0', tool_calls=[{'name': 'get_information_for_question_answering', 'args': {'user_query': 'best practices for MongoDB backups'}, 'id': '5ed428f5-1ddc-460f-b649-a8beed67e8dd', 'type': 'tool_call'}], usage_metadata={'input_tokens': 236, 'output_tokens': 18, 'total_tokens': 254, 'input_token_details': {'cache_read': 0}})]}\n",
      "Node tools:\n",
      "{'messages': [ToolMessage(content=\"# Backup and Restore Sharded Clusters\\n\\nThe following tutorials describe backup and restoration for sharded clusters:\\n\\nTo use `mongodump` and `mongorestore` as a backup strategy for sharded clusters, you must stop the sharded cluster balancer and use the `fsync` command or the `db.fsyncLock()` method on `mongos` to block writes on the cluster during backups.\\n\\nSharded clusters can also use one of the following coordinated backup and restore processes, which maintain the atomicity guarantees of transactions across shards:\\n\\n- MongoDB Atlas\\n\\n- MongoDB Cloud Manager\\n\\n- MongoDB Ops Manager\\n\\nUse file system snapshots back up each component in the sharded cluster individually. The procedure involves stopping the cluster balancer. If your system configuration allows file system backups, this might be more efficient than using MongoDB tools.\\n\\nCreate backups using `mongodump` to back up each component in the cluster individually.\\n\\n# Configuration and Maintenance\\n\\nThis section describes routine management operations, including updating your MongoDB deployment's configuration.\\n\\nOutlines common MongoDB configurations and examples of best-practice configurations for common use cases.\\n\\nUpgrade a MongoDB deployment to a different patch release within the same major release series.\\n\\nStart, configure, and manage running `mongod` process.\\n\\nStop in progress MongoDB client operations using `db.killOp()` and `maxTimeMS()`.\\n\\nArchive the current log files and start new ones.\\n\\nCreate backups using `mongodump` to back up each component in the cluster individually.\\n\\nLimit the operation of the cluster balancer to provide a window for regular backup operations.\\n\\nAn outline of the procedure and consideration for restoring an *entire* sharded cluster from backup.\\n\\n## Full Time Diagnostic Data Capture\\n\\nTo help MongoDB engineers analyze server behavior, `mongod` and `mongos` processes include a Full Time Diagnostic Data Capture (FTDC) mechanism. FTDC is enabled by default. Due to its importance in debugging deployments, FTDC thread failures are fatal and stop the parent `mongod` or `mongos` process.\\n\\nFTDC data files are compressed and not human-readable. They inherit the same file access permissions as the MongoDB data files. Only users with access to FTDC data files can transmit the FTDC data.\\n\\nMongoDB engineers cannot access FTDC data without explicit permission and assistance from system owners or operators.\\n\\nFTDC data **never** contains any of the following information:\\n\\n- Samples of queries, query predicates, or query results\\n\\n- Data sampled from any end-user collection or index\\n\\n- System or MongoDB user credentials or security certificates\\n\\n# MongoDB Performance\\n\\nAs you develop and operate applications with MongoDB, you may need to analyze the performance of the application and its database. When you encounter degraded performance, it is often a function of database access strategies, hardware availability, and the number of open database connections.\\n\\nSome users may experience performance limitations as a result of inadequate or inappropriate indexing strategies, or as a consequence of poor schema design patterns. Locking Performance discusses how these can impact MongoDB's internal locking.\\n\\nPerformance issues may indicate that the database is operating at capacity and that it is time to add additional capacity to the database. In particular, the application's working set should fit in the available physical memory.\\n\\nIn some cases performance issues may be temporary and related to abnormal traffic load. As discussed in Number of Connections, scaling can help relax excessive traffic.\\n\\nDatabase profiling can help you to understand what operations are causing degradation.\\n\\n## Locking Performance\", id='46e23cf8-8819-44a6-8546-1c9908286eca', tool_call_id='5ed428f5-1ddc-460f-b649-a8beed67e8dd')]}\n",
      "Node agent:\n",
      "{'messages': [AIMessage(content=\"Here are some best practices for MongoDB backups:\\n\\n*   Use file system snapshots to back up each component in a sharded cluster individually. This method is often more efficient than using MongoDB tools if your system allows file system backups.  It involves stopping the cluster balancer.\\n*   Back up each component individually using `mongodump`.\\n*   For sharded clusters, stop the balancer and use `fsync` or `db.fsyncLock()` on `mongos` to block writes during backups.  Consider using MongoDB Atlas, Cloud Manager, or Ops Manager for coordinated backups, which maintain transaction atomicity across shards.\\n\\nThere are also several tools and techniques for managing MongoDB and ensuring optimal performance.  These include:\\n\\n*   Full Time Diagnostic Data Capture (FTDC): Enabled by default, FTDC helps analyze server behavior.  It's important for debugging and its failures are fatal.  Note that FTDC data is never human-readable and doesn't contain sensitive information like queries or user credentials.\\n*   Performance analysis tools:  MongoDB provides tools for analyzing database performance, which can be affected by indexing strategies, schema design, hardware, and the number of connections.  Database profiling can help identify specific operations causing performance issues.  Scaling can help with temporary performance issues related to high traffic load.\", additional_kwargs={}, response_metadata={'prompt_feedback': {'block_reason': 0, 'safety_ratings': []}, 'finish_reason': 'STOP', 'model_name': 'gemini-1.5-pro-002', 'safety_ratings': []}, id='run-c2119882-1c3a-44a2-bf6b-3c52c9434acd-0', usage_metadata={'input_tokens': 980, 'output_tokens': 270, 'total_tokens': 1250, 'input_token_details': {'cache_read': 0}})]}\n",
      "---FINAL ANSWER---\n",
      "Here are some best practices for MongoDB backups:\n",
      "\n",
      "*   Use file system snapshots to back up each component in a sharded cluster individually. This method is often more efficient than using MongoDB tools if your system allows file system backups.  It involves stopping the cluster balancer.\n",
      "*   Back up each component individually using `mongodump`.\n",
      "*   For sharded clusters, stop the balancer and use `fsync` or `db.fsyncLock()` on `mongos` to block writes during backups.  Consider using MongoDB Atlas, Cloud Manager, or Ops Manager for coordinated backups, which maintain transaction atomicity across shards.\n",
      "\n",
      "There are also several tools and techniques for managing MongoDB and ensuring optimal performance.  These include:\n",
      "\n",
      "*   Full Time Diagnostic Data Capture (FTDC): Enabled by default, FTDC helps analyze server behavior.  It's important for debugging and its failures are fatal.  Note that FTDC data is never human-readable and doesn't contain sensitive information like queries or user credentials.\n",
      "*   Performance analysis tools:  MongoDB provides tools for analyzing database performance, which can be affected by indexing strategies, schema design, hardware, and the number of connections.  Database profiling can help identify specific operations causing performance issues.  Scaling can help with temporary performance issues related to high traffic load.\n"
     ]
    }
   ],
   "source": [
    "# Test the graph execution to view end-to-end flow\n",
    "execute_graph(\"What are some best practices for data backups in MongoDB?\")"
   ]
  },
  {
   "cell_type": "code",
   "execution_count": 48,
   "id": "962c7a62-7ade-4b3f-aace-7a26d1ee92b9",
   "metadata": {},
   "outputs": [
    {
     "name": "stdout",
     "output_type": "stream",
     "text": [
      "Node agent:\n",
      "{'messages': [AIMessage(content='', additional_kwargs={'function_call': {'name': 'get_page_content_for_summarization', 'arguments': '{\"user_query\": \"Create a MongoDB Deployment\"}'}}, response_metadata={'prompt_feedback': {'block_reason': 0, 'safety_ratings': []}, 'finish_reason': 'STOP', 'model_name': 'gemini-1.5-pro-002', 'safety_ratings': []}, id='run-76e4c850-bc53-480e-baa5-7055c3a4819e-0', tool_calls=[{'name': 'get_page_content_for_summarization', 'args': {'user_query': 'Create a MongoDB Deployment'}, 'id': '965cd8e0-31e4-4c00-8efc-9b292b87f9bc', 'type': 'tool_call'}], usage_metadata={'input_tokens': 237, 'output_tokens': 17, 'total_tokens': 254, 'input_token_details': {'cache_read': 0}})]}\n",
      "Node tools:\n",
      "{'messages': [ToolMessage(content=\"# Create a MongoDB Deployment\\n\\nYou can create a free tier MongoDB deployment on MongoDB Atlas to store and manage your data. MongoDB Atlas hosts and manages your MongoDB database in the cloud.\\n\\n## Create a Free MongoDB deployment on Atlas\\n\\nComplete the Get Started with Atlas guide to set up a new Atlas account and load sample data into a new free tier MongoDB deployment.\\n\\n## Save your Credentials\\n\\nAfter you create your database user, save that user's username and password to a safe location for use in an upcoming step.\\n\\nAfter you complete these steps, you have a new free tier MongoDB deployment on Atlas, database user credentials, and sample data loaded in your database.\\n\\nIf you run into issues on this step, ask for help in the MongoDB Community Forums or submit feedback by using the Rate this page tab on the right or bottom right side of this page.\\n\\n\", id='d0baa8f1-774b-4f5d-b681-735ebfc2e4e3', tool_call_id='965cd8e0-31e4-4c00-8efc-9b292b87f9bc')]}\n",
      "Node agent:\n",
      "{'messages': [AIMessage(content='To create a free MongoDB deployment on Atlas, follow the Get Started with Atlas guide. This guide will walk you through setting up an Atlas account, creating a free tier deployment, and loading sample data.  After creating your database user, ensure to save the username and password securely.  For assistance, refer to the MongoDB Community Forums or use the feedback option on the documentation page.', additional_kwargs={}, response_metadata={'prompt_feedback': {'block_reason': 0, 'safety_ratings': []}, 'finish_reason': 'STOP', 'model_name': 'gemini-1.5-pro-002', 'safety_ratings': []}, id='run-7a203361-2a3b-45f6-8e23-25384a2fdadc-0', usage_metadata={'input_tokens': 439, 'output_tokens': 77, 'total_tokens': 516, 'input_token_details': {'cache_read': 0}})]}\n",
      "---FINAL ANSWER---\n",
      "To create a free MongoDB deployment on Atlas, follow the Get Started with Atlas guide. This guide will walk you through setting up an Atlas account, creating a free tier deployment, and loading sample data.  After creating your database user, ensure to save the username and password securely.  For assistance, refer to the MongoDB Community Forums or use the feedback option on the documentation page.\n"
     ]
    }
   ],
   "source": [
    "# Test the graph execution to view end-to-end flow\n",
    "execute_graph(\"Give me a summary of the page titled Create a MongoDB Deployment\")"
   ]
  },
  {
   "cell_type": "markdown",
   "id": "a0c2e417-4ce0-480b-bf05-6c84f3fd5d1e",
   "metadata": {},
   "source": [
    "# Step 12: Add memory to the agent"
   ]
  },
  {
   "cell_type": "code",
   "execution_count": 49,
   "id": "04f2e1bc-d612-4733-a10e-fcee7d1664f0",
   "metadata": {},
   "outputs": [],
   "source": [
    "from langgraph.checkpoint.mongodb import MongoDBSaver"
   ]
  },
  {
   "cell_type": "code",
   "execution_count": 50,
   "id": "699d5d8e-2fcf-4cb0-b34d-5ac5cae23763",
   "metadata": {},
   "outputs": [],
   "source": [
    "# Initialize a MongoDB checkpointer\n",
    "checkpointer = MongoDBSaver(mongodb_client)"
   ]
  },
  {
   "cell_type": "code",
   "execution_count": 51,
   "id": "fac3bf47-6a0d-42c5-a705-6217c48709a1",
   "metadata": {},
   "outputs": [],
   "source": [
    "# Instantiate the graph with the checkpointer\n",
    "app = graph.compile(checkpointer=checkpointer)"
   ]
  },
  {
   "cell_type": "markdown",
   "id": "d14f77b5-54b6-4b21-b149-0c9a7eabcad0",
   "metadata": {},
   "source": [
    "📚 https://langchain-ai.github.io/langgraph/concepts/persistence/#threads"
   ]
  },
  {
   "cell_type": "code",
   "execution_count": 53,
   "id": "272ad63e-3233-4dc4-908b-74a690476951",
   "metadata": {},
   "outputs": [],
   "source": [
    "def execute_graph(thread_id: str, user_input: str) -> None:\n",
    "    \"\"\"\n",
    "    Stream outputs from the graph\n",
    "\n",
    "    Args:\n",
    "        thread_id (str): Thread ID for the checkpointer\n",
    "        user_input (str): User query string\n",
    "    \"\"\"\n",
    "    # Add user input to the messages attribute of the graph state\n",
    "    # The role of the message should be \"user\" and content should be `user_input`\n",
    "    input = {\"messages\": [(\"user\", user_input)]}\n",
    "    # Define a config containing the thread ID\n",
    "    config = {\"configurable\": {\"thread_id\": thread_id}}\n",
    "    # Pass `input` and `config` to the graph and stream outputs\n",
    "    for output in app.stream(input, config):\n",
    "        for key, value in output.items():\n",
    "            print(f\"Node {key}:\")\n",
    "            print(value)\n",
    "    print(\"---FINAL ANSWER---\")\n",
    "    print(value[\"messages\"][-1].content)"
   ]
  },
  {
   "cell_type": "code",
   "execution_count": 54,
   "id": "331ee671-339b-484d-a7c3-d95a02695b19",
   "metadata": {},
   "outputs": [
    {
     "name": "stdout",
     "output_type": "stream",
     "text": [
      "Node agent:\n",
      "{'messages': [AIMessage(content='', additional_kwargs={'function_call': {'name': 'get_information_for_question_answering', 'arguments': '{\"user_query\": \"What are some best practices for data backups in MongoDB?\"}'}}, response_metadata={'prompt_feedback': {'block_reason': 0, 'safety_ratings': []}, 'finish_reason': 'STOP', 'model_name': 'gemini-1.5-pro-002', 'safety_ratings': []}, id='run-4f168f1d-d02e-4862-ba58-e78e9e766fab-0', tool_calls=[{'name': 'get_information_for_question_answering', 'args': {'user_query': 'What are some best practices for data backups in MongoDB?'}, 'id': 'e5c631e2-85b5-4764-a0ca-63a45b8627eb', 'type': 'tool_call'}], usage_metadata={'input_tokens': 787, 'output_tokens': 24, 'total_tokens': 811, 'input_token_details': {'cache_read': 0}})]}\n",
      "Node tools:\n",
      "{'messages': [ToolMessage(content=\"# Backup and Restore Sharded Clusters\\n\\nThe following tutorials describe backup and restoration for sharded clusters:\\n\\nTo use `mongodump` and `mongorestore` as a backup strategy for sharded clusters, you must stop the sharded cluster balancer and use the `fsync` command or the `db.fsyncLock()` method on `mongos` to block writes on the cluster during backups.\\n\\nSharded clusters can also use one of the following coordinated backup and restore processes, which maintain the atomicity guarantees of transactions across shards:\\n\\n- MongoDB Atlas\\n\\n- MongoDB Cloud Manager\\n\\n- MongoDB Ops Manager\\n\\nUse file system snapshots back up each component in the sharded cluster individually. The procedure involves stopping the cluster balancer. If your system configuration allows file system backups, this might be more efficient than using MongoDB tools.\\n\\nCreate backups using `mongodump` to back up each component in the cluster individually.\\n\\nCreate backups using `mongodump` to back up each component in the cluster individually.\\n\\nLimit the operation of the cluster balancer to provide a window for regular backup operations.\\n\\nAn outline of the procedure and consideration for restoring an *entire* sharded cluster from backup.\\n\\n# Configuration and Maintenance\\n\\nThis section describes routine management operations, including updating your MongoDB deployment's configuration.\\n\\nOutlines common MongoDB configurations and examples of best-practice configurations for common use cases.\\n\\nUpgrade a MongoDB deployment to a different patch release within the same major release series.\\n\\nStart, configure, and manage running `mongod` process.\\n\\nStop in progress MongoDB client operations using `db.killOp()` and `maxTimeMS()`.\\n\\nArchive the current log files and start new ones.\\n\\n## Full Time Diagnostic Data Capture\\n\\nTo help MongoDB engineers analyze server behavior, `mongod` and `mongos` processes include a Full Time Diagnostic Data Capture (FTDC) mechanism. FTDC is enabled by default. Due to its importance in debugging deployments, FTDC thread failures are fatal and stop the parent `mongod` or `mongos` process.\\n\\nFTDC data files are compressed and not human-readable. They inherit the same file access permissions as the MongoDB data files. Only users with access to FTDC data files can transmit the FTDC data.\\n\\nMongoDB engineers cannot access FTDC data without explicit permission and assistance from system owners or operators.\\n\\nFTDC data **never** contains any of the following information:\\n\\n- Samples of queries, query predicates, or query results\\n\\n- Data sampled from any end-user collection or index\\n\\n- System or MongoDB user credentials or security certificates\\n\\n# Create a MongoDB Deployment\\n\\nYou can create a free tier MongoDB deployment on MongoDB Atlas to store and manage your data. MongoDB Atlas hosts and manages your MongoDB database in the cloud.\\n\\n## Create a Free MongoDB deployment on Atlas\\n\\nComplete the Get Started with Atlas guide to set up a new Atlas account and load sample data into a new free tier MongoDB deployment.\\n\\n## Save your Credentials\\n\\nAfter you create your database user, save that user's username and password to a safe location for use in an upcoming step.\\n\\nAfter you complete these steps, you have a new free tier MongoDB deployment on Atlas, database user credentials, and sample data loaded in your database.\\n\\nIf you run into issues on this step, ask for help in the MongoDB Community Forums or submit feedback by using the Rate this page tab on the right or bottom right side of this page.\", id='54fbf797-4751-4b3f-9c03-bf8f078971a6', tool_call_id='e5c631e2-85b5-4764-a0ca-63a45b8627eb')]}\n",
      "Node agent:\n",
      "{'messages': [AIMessage(content=\"Best practices for MongoDB backups include:\\n\\n* **Using MongoDB Atlas, Cloud Manager, or Ops Manager:** These tools offer coordinated backup and restore processes, maintaining transactional atomicity across shards.  This is particularly important for sharded clusters.\\n* **File system snapshots:** If your system supports it, this can be a more efficient method for backing up each component individually.  Remember to stop the balancer beforehand.\\n* **`mongodump`:** This tool can back up each component individually.  For sharded clusters, stop the balancer and use `fsync` or `db.fsyncLock()` to block writes during the backup process.\\n* **Limiting balancer operation:**  Restricting the balancer's activity can create a window for regular backups.\\n\\nFor more detailed information, consult the documentation on backing up and restoring sharded clusters and general configuration and maintenance.  You can also find helpful resources in the MongoDB Community Forums.\", additional_kwargs={}, response_metadata={'prompt_feedback': {'block_reason': 0, 'safety_ratings': []}, 'finish_reason': 'STOP', 'model_name': 'gemini-1.5-pro-002', 'safety_ratings': []}, id='run-d372b2ef-6d6d-4288-a983-c643c81ced33-0', usage_metadata={'input_tokens': 1526, 'output_tokens': 192, 'total_tokens': 1718, 'input_token_details': {'cache_read': 0}})]}\n",
      "---FINAL ANSWER---\n",
      "Best practices for MongoDB backups include:\n",
      "\n",
      "* **Using MongoDB Atlas, Cloud Manager, or Ops Manager:** These tools offer coordinated backup and restore processes, maintaining transactional atomicity across shards.  This is particularly important for sharded clusters.\n",
      "* **File system snapshots:** If your system supports it, this can be a more efficient method for backing up each component individually.  Remember to stop the balancer beforehand.\n",
      "* **`mongodump`:** This tool can back up each component individually.  For sharded clusters, stop the balancer and use `fsync` or `db.fsyncLock()` to block writes during the backup process.\n",
      "* **Limiting balancer operation:**  Restricting the balancer's activity can create a window for regular backups.\n",
      "\n",
      "For more detailed information, consult the documentation on backing up and restoring sharded clusters and general configuration and maintenance.  You can also find helpful resources in the MongoDB Community Forums.\n"
     ]
    }
   ],
   "source": [
    "# Test graph execution with thread ID\n",
    "execute_graph(\n",
    "    \"5\",\n",
    "    \"What are some best practices for data backups in MongoDB?\",\n",
    ")"
   ]
  },
  {
   "cell_type": "code",
   "execution_count": 56,
   "id": "e2750630-e3c3-41fb-b77b-920e37d4c16b",
   "metadata": {},
   "outputs": [
    {
     "name": "stdout",
     "output_type": "stream",
     "text": [
      "Node agent:\n",
      "{'messages': [AIMessage(content='You asked about the best practices for data backups in MongoDB.', additional_kwargs={}, response_metadata={'prompt_feedback': {'block_reason': 0, 'safety_ratings': []}, 'finish_reason': 'STOP', 'model_name': 'gemini-1.5-pro-002', 'safety_ratings': []}, id='run-2609dfc1-8a85-4816-ba79-0a374ce68507-0', usage_metadata={'input_tokens': 1724, 'output_tokens': 13, 'total_tokens': 1737, 'input_token_details': {'cache_read': 0}})]}\n",
      "---FINAL ANSWER---\n",
      "You asked about the best practices for data backups in MongoDB.\n"
     ]
    }
   ],
   "source": [
    "# Follow-up question to ensure message history works\n",
    "execute_graph(\n",
    "    \"5\",\n",
    "    \"What did I just ask you?\",\n",
    ")"
   ]
  }
 ],
 "metadata": {
  "kernelspec": {
   "display_name": "conda_python3",
   "language": "python",
   "name": "conda_python3"
  },
  "language_info": {
   "codemirror_mode": {
    "name": "ipython",
    "version": 3
   },
   "file_extension": ".py",
   "mimetype": "text/x-python",
   "name": "python",
   "nbconvert_exporter": "python",
   "pygments_lexer": "ipython3",
   "version": "3.10.16"
  }
 },
 "nbformat": 4,
 "nbformat_minor": 5
}
